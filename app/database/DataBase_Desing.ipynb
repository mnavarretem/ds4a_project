{
 "cells": [
  {
   "cell_type": "markdown",
   "metadata": {},
   "source": [
    "# DataBase desing\n",
    "In this section we have documented the desing of the database. In this same folder we include all the actualized CSV that were used for the database (it is in a zip file named `db_tables.zip`)."
   ]
  },
  {
   "cell_type": "markdown",
   "metadata": {},
   "source": [
    "--------------"
   ]
  },
  {
   "cell_type": "markdown",
   "metadata": {},
   "source": [
    "## Facebook_post\n",
    "\n",
    "This table contains all the posts that were scraped from the facebook pages of OFFCORSS, EPK and polito. This table also contains the reactions (7 possible reactions like `me_gusta`, `me_encanta`, `me_asombra`...). We have registers from 2017 to this year.\n",
    "\n",
    "column | type | describe\n",
    "-------|------|-------------\n",
    "post_id | int | An unique identifier for the post.\n",
    "text | varchar | The caption that is published in the post.\n",
    "post_text | varchar | The text that contains the post.\n",
    "shared_text | varchar | The associed text in the post\n",
    "time | timestamp | The date when the post was published.\n",
    "image | varchar | The url of the image of the post (or `null` when it doesn´t have).\n",
    "video | varchar | The url of the video of the post (or `null` when it doesn´t have).\n",
    "video_thumbnail | varchar | The url of the thumbnail of the video (or `null` when it doesn´t have).\n",
    "video_id | int | An unique identifier of the video.\n",
    "likes | int | The number of likes of the post.\n",
    "comments | int | The number of comments of the post.\n",
    "shares | int | The number of times that the post was shared.\n",
    "post_url | varchar | The link associed to the post.\n",
    "link | varchar | The link published in the post (or `null` when it doesn´t have)\n",
    "user_id | int | An unique identifier of the user that published the post.\n",
    "me_gusta | int | Count of that type of reaction.\n",
    "me_encanta | int | Count of that type of reaction.\n",
    "me_enfada | int | Count of that type of reaction.\n",
    "me_importa | int | Count of that type of reaction.\n",
    "me_asombra | int | Count of that type of reaction.\n",
    "me_divierte | int | Count of that type of reaction.\n",
    "me_entristece | int | Count of that type of reaction.\n",
    "brand_username | int | Name of the brand that published the post.\n",
    "score | float | A score based on the reactions.\n",
    "**products** | **int** | **A categorical variable of one product**"
   ]
  },
  {
   "cell_type": "markdown",
   "metadata": {},
   "source": [
    "----------------------------"
   ]
  },
  {
   "cell_type": "markdown",
   "metadata": {},
   "source": [
    "## Grams\n",
    "\n",
    "This table contains the most common ngrams of the `nps_survey` and `satisfaction_rating` that offcorss provided us. It was made extracting the most common words weekly.\n",
    "\n",
    "column | type | describe\n",
    "-------|------|-------------\n",
    "id_grams | int | An unique identifier of the row.\n",
    "grams | varchar | Word or words taken to the nps or survey.\n",
    "frequency | int | Number of times that the gram appears.\n",
    "init_date | timestamp | The initial time of the analysis.\n",
    "end_date | timestamp | The final time of the analysis.\n",
    "group | varchar | The channel the customer communicated with.\n",
    "category | varchar | The customer characterization (promoter, detractor...)"
   ]
  },
  {
   "cell_type": "markdown",
   "metadata": {},
   "source": [
    "---------------------"
   ]
  },
  {
   "cell_type": "markdown",
   "metadata": {},
   "source": [
    "## instagram_post\n",
    "\n",
    "This table contains all the posts that were scraped from the instagram pages of OFFCORSS, EPK and polito. We have registers from 2019 to this year.\n",
    "\n",
    "column | type | describe\n",
    "-------|------|--------------\n",
    "id_inst | int | An unique identifier of the row.\n",
    "id_post | int | The unique identifier that instagram asigns to the post.\n",
    "text | varchar | The caption of the post.\n",
    "date_post | varchar | The date when the post was published.\n",
    "post_type | varchar | The type of the post (image, sidecar, video).\n",
    "is_video | varchar | If the post is a video (true or false).\n",
    "is_ad | varchar | If the post was used like advertising (true or false)\n",
    "post_url | varchar | The link to the post.\n",
    "hashtags | varchar | The hashtags that appear in the caption.\n",
    "brand_username | varchar | The name of the brand that published the post."
   ]
  },
  {
   "cell_type": "markdown",
   "metadata": {},
   "source": [
    "-----------------"
   ]
  },
  {
   "cell_type": "markdown",
   "metadata": {},
   "source": [
    "## Instagram_reactions\n",
    "\n",
    "This table contains all the reactions (number of likes and comments) of the posts that were scraped from the instagram pages of OFFCORSS, EPK and polito. We have registers from 2019 to this year.\n",
    "\n",
    "column | type | describe\n",
    "-------|------|-------------\n",
    "id_react | int | An unique identifier of the row.\n",
    "post_id | int | The unique identifier that instagram asigns to the post.\n",
    "brand_username | varchar | The name of the brand that published the post.\n",
    "total_reactions | int | Count the number of likes of the post.\n",
    "total_comments | int | Count the number of comments of the post."
   ]
  },
  {
   "cell_type": "markdown",
   "metadata": {},
   "source": [
    "-------------------------"
   ]
  },
  {
   "cell_type": "markdown",
   "metadata": {},
   "source": [
    "## Instagram_response\n",
    "\n",
    "This table contains all the comments of the posts that were scraped from the instagram pages of OFFCORSS, EPK and polito. We have registers from 2019 to this year.\n",
    "\n",
    "column | type | describe\n",
    "-------|------|-------------\n",
    "id_response | int | An unique identifier of the row.\n",
    "rootpost_id | int | The unique identifier of the post that the user is responsing\n",
    "parentpost_id | int | The unique identifier of the comment that the user  is resposing.\n",
    "responsepost_id | int | The unique identifier that instagram assigns to the commentary.\n",
    "brand_username | varchar | The name of the brand that published the post. \n",
    "text | varchar | The comment that the user made.\n",
    "post_date | timestamp | The date when the comentary was made.\n",
    "likes | int | The number of likes that the commentary has.\n",
    "username | varchar | The name of the instagram profile that published the comment.\n",
    "processed_comment | varchar | The comment after doing some processing like lowercase and removing certain characters.\n",
    "score | float | The sentiment score that the model assigned to the comment.\n",
    "class | varchar | A categorical variable that classifies the comment (good, bad, neutral).\n",
    "tokens | varchar | The comment processed after extract all the stop-words.\n",
    "**products** | **int** | **A categorical variable of one product**"
   ]
  },
  {
   "cell_type": "markdown",
   "metadata": {},
   "source": [
    "--------------"
   ]
  },
  {
   "cell_type": "markdown",
   "metadata": {},
   "source": [
    "## Npl_data\n",
    "\n",
    "This table contains the response of a NPS (Net Promoter Score) survey that the customers sent to offcorss. It classifies the comment into `promoter`, `passive` and `detractor`.\n",
    "\n",
    "column | type | describe\n",
    "-------|------|-------------\n",
    "id_npl | int | An unique identifier of the row.\n",
    "survey_date | timestamp | The date when the survey was sent.\n",
    "name | varchar | The name of the user that response to it.\n",
    "user_id | int | The unique identifier of the user in the offcorss database.\n",
    "email | varchar | The email address of the user.\n",
    "rating | int | A score between 1 and 10.\n",
    "classification | varchar | A categorical variable that classifies the user into promoter, detractor, passive.\n",
    "comment | varchar | The comment that the user sent with the survey.\n",
    "response_date | timestamp | The date when the user response to the survey.\n",
    "processed_comment | varchar | The comment after doing some processing like lowercase and removing certain characters.\n",
    "tokens | varchar | The comment processed after extract all the stop-words.\n",
    "score | float | The sentiment score that the model assigned to the comment.\n",
    "class | varchar | A categorical variable that classifies the comment (good, bad, neutral).\n",
    "**products** | **int** | **A categorical variable of one product**"
   ]
  },
  {
   "cell_type": "markdown",
   "metadata": {},
   "source": [
    "--------------"
   ]
  },
  {
   "cell_type": "markdown",
   "metadata": {},
   "source": [
    "## Products\n",
    "\n",
    "This table merges all the information of facebook posts caption, instagram responses, nps survey and satisfaction rating. It has all the scores for each origin table and a **product** column based on the product classification. For the extension of the table (and like all the fields comes by others columns)we are not going to describe each one.\n",
    "\n",
    "It was designed in order to make easier the visualization of the power bi products section."
   ]
  },
  {
   "cell_type": "markdown",
   "metadata": {},
   "source": [
    "--------------"
   ]
  },
  {
   "cell_type": "markdown",
   "metadata": {},
   "source": [
    "## Satisfaction_Data\n",
    "\n",
    "This table contains the response of a satisfaction rating survey that the customers sent to offcorss. It classifies the comment into `good` or `bad`.\n",
    "\n",
    "column | type | describe\n",
    "-------|------|-------------\n",
    "id_stn | int | An unique identifier of the row.\n",
    "requeste | varchar | The name of the customer that response to the survey.\n",
    "user_id | int | The unique identifier of the user in the offcorss database.\n",
    "email | varchar | The email address of the user. \n",
    "ticked_id | int | An unique identifier of the request.\n",
    "brand | varchar | The name of the brand that the customer is responding the survey.\n",
    "groups | varchar | The channel that the customer is communicating with.\n",
    "assignee | varchar | The company section that was assigned to process the request.\n",
    "satisfaction | varchar | A categorical variable that classifies the comment into good or bad.\n",
    "comment | varchar | The comment that the user sent with the survey.\n",
    "survey_date | timestamp | The date when the answer to the survey was sent.\n",
    "processed_comment | varchar | The comment after doing some processing like lowercase and removing certain characters.\n",
    "tokens | varchar | The comment processed after extract all the stop-words.\n",
    "score | float | The sentiment score that the model assigned to the comment.\n",
    "class | varchar | A categorical variable that classifies the comment (good, bad, neutral).\n",
    "**products** | **int** | **A categorical variable of one product**"
   ]
  },
  {
   "cell_type": "markdown",
   "metadata": {},
   "source": [
    "--------------"
   ]
  },
  {
   "cell_type": "markdown",
   "metadata": {},
   "source": [
    "## Ventas_franquicia\n",
    "\n",
    "This table contains the sales registered in the franchise. It contains a characterization of the product sold and the city where it was sent or sold.\n",
    "\n",
    "column | type | describe\n",
    "-------|------|-------------\n",
    "id | int | An unique identifier of the row.\n",
    "factura | int | The serial of the facture.\n",
    "pedido | int | An unique identifier of the order in offcorss database.\n",
    "d_canal | varchar | The channel where the product was sold.\n",
    "ciudad | varchar | The name of the city were the sale was made.\n",
    "f_factura | timestamp | The date of the facture.\n",
    "d_material | varchar | A description of the customer purchase.\n",
    "vlr_neto | varchar | The subtotal of the purchase without tax.\n",
    "vlr_iva | varchar | The IVA value declared in the purchase.\n",
    "vlr_total | varchar | The total value of the purchase.\n",
    "referencia | varchar | A classification of the product sold (like `prenda exterior`, `accesorio`, ...)\n",
    "colecion | int | The unique identifier of the collection of the product sold in offcorss database."
   ]
  },
  {
   "cell_type": "markdown",
   "metadata": {},
   "source": [
    "--------------"
   ]
  },
  {
   "cell_type": "markdown",
   "metadata": {},
   "source": [
    "## Ventas_tiendas\n",
    "\n",
    "This table contains the sales registered in the physical stores. It contains a characterization of the product sold and the city where it was sent or sold.\n",
    "\n",
    "column | type | describe\n",
    "-------|------|-------------\n",
    "id | int | An unique identifier of the row.\n",
    "factura | int | The serial of the facture.\n",
    "pedido | int | An unique identifier of the order in offcorss database.\n",
    "d_canal | varchar | The channel where the product was sold.\n",
    "ciudad | varchar | The name of the city were the sale was made.\n",
    "f_factura | timestamp | The date of the facture.\n",
    "d_material | varchar | A description of the customer purchase.\n",
    "vlr_neto | varchar | The subtotal of the purchase without tax.\n",
    "vlr_iva | varchar | The IVA value declared in the purchase.\n",
    "vlr_total | varchar | The total value of the purchase.\n",
    "referencia | varchar | A classification of the product sold (like `prenda exterior`, `accesorio`, ...)\n",
    "colecion | int | The unique identifier of the collection of the product sold in offcorss database."
   ]
  },
  {
   "cell_type": "markdown",
   "metadata": {},
   "source": [
    "--------------"
   ]
  },
  {
   "cell_type": "markdown",
   "metadata": {},
   "source": [
    " ## Ventas_franquicia\n",
    "\n",
    "This table contains the sales registered in the virtual store. It contains a characterization of the product sold and the city where it was sent or sold.\n",
    "\n",
    "column | type | describe\n",
    "-------|------|-------------\n",
    "id | int | An unique identifier of the row.\n",
    "pedido | int | An unique identifier of the order in offcorss database.\n",
    "f_factura | timestamp | The date of the facture.\n",
    "poblacion_destino | varchar | The name of the city where the product was sold.\n",
    "d_material | varchar | A description of the customer purchase.\n",
    "vlr_total | varchar | The total value of the purchase.\n",
    "referencia | varchar | A classification of the product sold (like `prenda exterior`, `accesorio`, ...)\n",
    "articulo | varchar | The name of the product associed (like `buzo`, `chaqueta`, `top`).\n",
    "concepto | varchar | The name of the collection associed to the product."
   ]
  },
  {
   "cell_type": "markdown",
   "metadata": {},
   "source": [
    "--------------"
   ]
  },
  {
   "cell_type": "markdown",
   "metadata": {},
   "source": [
    "### About the **products** column\n",
    "\n",
    "There is a column named **products** that appears in some tables like `facebook_post`, `instagram_response`, `npl_data` and `Satisfaction_Data`. This column is a notation to simplify 90 columns. Each column corresponds to a product that appears in the sales tables, and it has a value of 0 or 1, depends if the comment or the post refers to that product.\n",
    "\n",
    "Some of the products are: \"antibacterial\", \"antifaz\", \"aretas\", \"babero\", \"babitas\", \"balaca\", \"baleta\", \"baño\", \"bermuda\", \"bikini\", \"billetera\", \"body\", \"bolsita\", \"buzo\", \"cachucha\", \"camisa\", \"camiseta\"..."
   ]
  },
  {
   "cell_type": "markdown",
   "metadata": {},
   "source": [
    "--------------"
   ]
  }
 ],
 "metadata": {
  "kernelspec": {
   "display_name": "Python 3",
   "language": "python",
   "name": "python3"
  },
  "language_info": {
   "codemirror_mode": {
    "name": "ipython",
    "version": 3
   },
   "file_extension": ".py",
   "mimetype": "text/x-python",
   "name": "python",
   "nbconvert_exporter": "python",
   "pygments_lexer": "ipython3",
   "version": "3.6.7"
  }
 },
 "nbformat": 4,
 "nbformat_minor": 2
}
