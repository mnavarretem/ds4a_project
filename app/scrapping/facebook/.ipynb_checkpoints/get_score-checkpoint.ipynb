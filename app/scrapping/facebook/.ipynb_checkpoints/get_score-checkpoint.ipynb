{
 "cells": [
  {
   "cell_type": "code",
   "execution_count": 1,
   "metadata": {},
   "outputs": [
    {
     "name": "stderr",
     "output_type": "stream",
     "text": [
      "[nltk_data] Downloading package stopwords to /home/jovyan/nltk_data...\n",
      "[nltk_data]   Package stopwords is already up-to-date!\n",
      "[nltk_data] Downloading package punkt to /home/jovyan/nltk_data...\n",
      "[nltk_data]   Package punkt is already up-to-date!\n"
     ]
    },
    {
     "data": {
      "text/plain": [
       "True"
      ]
     },
     "execution_count": 1,
     "metadata": {},
     "output_type": "execute_result"
    }
   ],
   "source": [
    "import numpy as np\n",
    "import pandas as pd\n",
    "import nltk\n",
    "from sentiment_analysis import *\n",
    "\n",
    "nltk.download('punkt')"
   ]
  },
  {
   "cell_type": "code",
   "execution_count": 2,
   "metadata": {},
   "outputs": [],
   "source": [
    "df = pd.read_csv('data/csv/facebook.csv', delimiter=\",\")"
   ]
  },
  {
   "cell_type": "code",
   "execution_count": 3,
   "metadata": {},
   "outputs": [],
   "source": [
    "df[\"Me encanta\"] = df[\"Me encanta\"].fillna(value=0)\n",
    "df[\"Me enfada\"] = df[\"Me enfada\"].fillna(value=0)\n",
    "df[\"Me asombra\"] = df[\"Me asombra\"].fillna(value=0)\n",
    "df[\"Me divierte\"] = df[\"Me divierte\"].fillna(value=0)\n",
    "df[\"Me entristece\"] = df[\"Me entristece\"].fillna(value=0)\n",
    "df[\"Me importa\"] = df[\"Me importa\"].fillna(value=0)"
   ]
  },
  {
   "cell_type": "code",
   "execution_count": 4,
   "metadata": {},
   "outputs": [],
   "source": [
    "df[\"Pos\"] = df[\"Me encanta\"].astype(\"int\") + df[\"Me divierte\"].astype(\"int\")\n",
    "df[\"Neg\"] = df[\"Me enfada\"] + df[\"Me entristece\"]\n",
    "df[\"Neu\"] = df[\"Me asombra\"] + df[\"Me importa\"]"
   ]
  },
  {
   "cell_type": "code",
   "execution_count": 5,
   "metadata": {},
   "outputs": [],
   "source": [
    "df[\"score\"] = 0.5*(df.Pos - df.Neg)/(df.Pos + df.Neg + df.Neu + 1) + 0.5"
   ]
  },
  {
   "cell_type": "code",
   "execution_count": 6,
   "metadata": {},
   "outputs": [],
   "source": [
    "products_file  = 'offcorss_products.csv'\n",
    "products_words = pd.read_csv(products_file).drop(columns = 'Unnamed: 0')"
   ]
  },
  {
   "cell_type": "code",
   "execution_count": 7,
   "metadata": {},
   "outputs": [],
   "source": [
    "data_responses = df.copy()\n",
    "\n",
    "vt_tokens  = []\n",
    "vt_products= np.empty((0,len(products_words)), int)\n",
    "\n",
    "products_stm = stem_tokens(products_words.products)\n",
    "nm_lenData   = len(data_responses)\n",
    "\n",
    "\n",
    "for idx in range(0,nm_lenData):    \n",
    "    \n",
    "    # Get comment\n",
    "    cur_comm = data_responses.loc[idx,['text']].values[0]\n",
    "    \n",
    "    # Get tokenized comment\n",
    "    tokens, words = get_comment_tokens(str(cur_comm))\n",
    "    \n",
    "    # get products array\n",
    "    product_inComments = np.in1d(products_stm, stem_tokens(words), assume_unique=True)\n",
    "    product_inComments = product_inComments.astype(int) \n",
    "    product_inComments = product_inComments.reshape(1, len(products_words))\n",
    "    \n",
    "    # append comments tokens and products\n",
    "    vt_products = np.append(vt_products, product_inComments, axis=0)\n",
    "    \n",
    "products_df = pd.DataFrame(vt_products, columns = products_words.products)\n",
    "\n",
    "df2 = pd.merge(df.drop(columns=[\"Neg\", \"Pos\", \"Neu\"]), products_df, left_index = True, right_index=True)"
   ]
  },
  {
   "cell_type": "code",
   "execution_count": 8,
   "metadata": {},
   "outputs": [],
   "source": [
    "df.loc[df.text.isnull(), 'text'] = ''"
   ]
  },
  {
   "cell_type": "code",
   "execution_count": 9,
   "metadata": {},
   "outputs": [],
   "source": [
    "df.reset_index(drop=True, inplace=True)"
   ]
  },
  {
   "cell_type": "code",
   "execution_count": 10,
   "metadata": {},
   "outputs": [
    {
     "data": {
      "text/plain": [
       "Index(['Unnamed: 0', 'post_id', 'text', 'post_text', 'shared_text', 'time',\n",
       "       'image', 'video', 'video_thumbnail', 'video_id',\n",
       "       ...\n",
       "       'tendido', 'tenis', 'termo', 'toalla', 'tobillera', 'top', 'tutu',\n",
       "       'vestido', 'visera', 'zapato'],\n",
       "      dtype='object', length=115)"
      ]
     },
     "execution_count": 10,
     "metadata": {},
     "output_type": "execute_result"
    }
   ],
   "source": [
    "df2.columns"
   ]
  },
  {
   "cell_type": "code",
   "execution_count": 11,
   "metadata": {},
   "outputs": [],
   "source": [
    "df2.to_csv('facebook_tables.csv', encoding=\"utf-8-sig\")"
   ]
  }
 ],
 "metadata": {
  "kernelspec": {
   "display_name": "Python 3",
   "language": "python",
   "name": "python3"
  },
  "language_info": {
   "codemirror_mode": {
    "name": "ipython",
    "version": 3
   },
   "file_extension": ".py",
   "mimetype": "text/x-python",
   "name": "python",
   "nbconvert_exporter": "python",
   "pygments_lexer": "ipython3",
   "version": "3.6.7"
  }
 },
 "nbformat": 4,
 "nbformat_minor": 2
}
