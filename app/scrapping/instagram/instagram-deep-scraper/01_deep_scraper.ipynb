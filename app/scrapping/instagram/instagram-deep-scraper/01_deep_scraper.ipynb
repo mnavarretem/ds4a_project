{
 "cells": [
  {
   "cell_type": "markdown",
   "metadata": {},
   "source": [
    "# Deep Instagram Scraper\n",
    "\n",
    "OFFCORSS have given us all the information that comes from conversation with customer service and social media information (that they had scraped from Twitter. But, it could be quite important to get information from other social media platforms like facebook and instagram, including information of brand competitors in those social media.\n",
    " \n",
    "In this notebook, the idea is to get all the information (posts and comments) from the OFFCORSS profile and its competitors too."
   ]
  },
  {
   "cell_type": "markdown",
   "metadata": {},
   "source": [
    "## Installing the library needed\n",
    "To do the scraping of instagram, we have found a python library named `instaloader`. This library is a useful tool that allows you to get pictures and videos from instagram, with the caption and other metadata (for more information, this is the [official page](https://instaloader.github.io/))."
   ]
  },
  {
   "cell_type": "code",
   "execution_count": null,
   "metadata": {},
   "outputs": [],
   "source": [
    "! pip intall instaloader"
   ]
  },
  {
   "cell_type": "markdown",
   "metadata": {},
   "source": [
    "## How we have used the library?\n",
    "\n",
    "We used the command `instaloader` in the terminal with the next flags:\n",
    "* `--post-filter=”date_utc >= datetime(2019, 1, 1)”` to get all posts, but only from January 1st.\n",
    "* `--no-pictures` we are not interested in downloading the pictures.\n",
    "* `--no-videos` we are not interested in downloading the videos.\n",
    "* `--no-video-thumbnails` we are not interested in downloading the thumbnails of the videos.\n",
    "* `--comments` we are interested in analyzing the comments of the post.\n",
    "* `--no-captions` all the captions of the posts we are going to take from the metadata `.json` files.\n",
    "* `--no-compress-json` it would be easier to work with the metadata of the post (number of likes, caption, date, user, hashtags ...) if it is not compressed, because it brings all the post metadata in a separated file and we would have to descompress all the files.\n",
    "* `--no-profile-pic` we are not interested in downloading the profile pictures.\n",
    "\n",
    "Then, for example, to scrap all the offcorss information, the command would be:"
   ]
  },
  {
   "cell_type": "code",
   "execution_count": null,
   "metadata": {},
   "outputs": [],
   "source": [
    "! instaloader --post-filter=\"date_utc >= datetime(2019,1,1)\" profile offcorss --no-pictures --no-videos \n",
    "--no-video-thumbnails --comments --no-captions --no-compress-json --no-profile-pic"
   ]
  },
  {
   "cell_type": "markdown",
   "metadata": {},
   "source": [
    "We have done the same process to get the information of the profiles of *epk* and *polito*, that are two significant competitors of OFFCORSS."
   ]
  },
  {
   "cell_type": "code",
   "execution_count": null,
   "metadata": {},
   "outputs": [],
   "source": [
    "! instaloader --post-filter=\"date_utc >= datetime(2019,1,1)\" profile epk --no-pictures --no-videos \n",
    "--no-video-thumbnails --comments --no-captions --no-compress-json --no-profile-pic"
   ]
  },
  {
   "cell_type": "code",
   "execution_count": null,
   "metadata": {},
   "outputs": [],
   "source": [
    "! instaloader --post-filter=\"date_utc >= datetime(2019,1,1)\" profile politokids --no-pictures --no-videos \n",
    "--no-video-thumbnails --comments --no-captions --no-compress-json --no-profile-pic"
   ]
  },
  {
   "cell_type": "markdown",
   "metadata": {},
   "source": [
    "**Note:** It would be interesting to say that we didn´t need to login from one instagram account because the OFFCORSS and its competitors profiles were public."
   ]
  },
  {
   "cell_type": "markdown",
   "metadata": {},
   "source": [
    "After executing those commands in the terminal you will get three folders with the names of the companies. Each folder will have a lot of `.json` files, each one is the metadata from one post of the profile or the comments of that profile. Each file is named with the date and the hour of the posts and the word comments if that file is one of a comment.\n",
    "\n",
    "It would be better if you delete two files that corresponds to the profile information, they are stored as `.txt` or `.json` files. "
   ]
  }
 ],
 "metadata": {
  "kernelspec": {
   "display_name": "Python 3",
   "language": "python",
   "name": "python3"
  },
  "language_info": {
   "codemirror_mode": {
    "name": "ipython",
    "version": 3
   },
   "file_extension": ".py",
   "mimetype": "text/x-python",
   "name": "python",
   "nbconvert_exporter": "python",
   "pygments_lexer": "ipython3",
   "version": "3.6.7"
  }
 },
 "nbformat": 4,
 "nbformat_minor": 2
}
